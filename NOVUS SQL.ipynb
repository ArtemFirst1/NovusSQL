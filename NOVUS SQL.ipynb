{
 "cells": [
  {
   "cell_type": "markdown",
   "metadata": {},
   "source": [
    "**1)Розрахувати: Кількість покупців, суму здійснених покупок, середній чек та середню величину покупки на 1 клієнта, за додаткових умов**"
   ]
  },
  {
   "cell_type": "markdown",
   "metadata": {},
   "source": [
    "*А. Враховувати покупки клієнтів, які стали клієнтами мережі із 2019 по 2022 рік, включно*"
   ]
  },
  {
   "cell_type": "code",
   "execution_count": null,
   "metadata": {
    "vscode": {
     "languageId": "sql"
    }
   },
   "outputs": [],
   "source": [
    "SELECT DISTINCT Card_code\n",
    "FROM Client\n",
    "WHERE StartDate BETWEEN '2019-01-01' AND '2022-12-31';\n"
   ]
  },
  {
   "cell_type": "markdown",
   "metadata": {},
   "source": [
    "*Б. Не брати до уваги покупки клієнтів, які здійснили за цей період мене 3-х покупок (випадкові клієнти)*"
   ]
  },
  {
   "cell_type": "code",
   "execution_count": null,
   "metadata": {
    "vscode": {
     "languageId": "sql"
    }
   },
   "outputs": [],
   "source": [
    "SELECT DISTINCT Card_code\n",
    "FROM Check\n",
    "GROUP BY Card_code\n",
    "HAVING COUNT(DISTINCT Check_id) >= 3;\n"
   ]
  },
  {
   "cell_type": "markdown",
   "metadata": {},
   "source": [
    "*В. Не брати до уваги покупок клієнтів, в середній корзині у яких менше 5 СКЮ (шукачі мега-знижок, випадкові/імпульсні покупки)*"
   ]
  },
  {
   "cell_type": "code",
   "execution_count": null,
   "metadata": {
    "vscode": {
     "languageId": "sql"
    }
   },
   "outputs": [],
   "source": [
    "SELECT DISTINCT Card_code\n",
    "FROM Check\n",
    "GROUP BY Card_code\n",
    "HAVING AVG(DISTINCT Tovar_id) >= 5;\n"
   ]
  },
  {
   "cell_type": "markdown",
   "metadata": {},
   "source": [
    "*Г. Враховувати в сумі покупок тільки товари підкатегорії FMCG (не входять САП-групи U та  V )*"
   ]
  },
  {
   "cell_type": "code",
   "execution_count": null,
   "metadata": {
    "vscode": {
     "languageId": "sql"
    }
   },
   "outputs": [],
   "source": [
    "SELECT Sum\n",
    "FROM Check\n",
    "WHERE Tovar_id IN (\n",
    "    SELECT Tovar_id\n",
    "    FROM Product\n",
    "    WHERE SAP_id NOT IN ('U', 'V'));"
   ]
  },
  {
   "cell_type": "markdown",
   "metadata": {},
   "source": [
    "*А,Б,В,Г)Кількість покупців, суму здійснених покупок, середній чек та середню величину покупки на 1 клієнта*"
   ]
  },
  {
   "cell_type": "code",
   "execution_count": null,
   "metadata": {
    "vscode": {
     "languageId": "sql"
    }
   },
   "outputs": [],
   "source": [
    "SELECT SUM(Sum) AS TotalSales,\n",
    "       AVG(Sum) AS AvgPurchasePerCustomer\n",
    "FROM Check\n",
    "WHERE Card_code IN (\n",
    "        SELECT Card_code\n",
    "        FROM Client\n",
    "        WHERE StartDate BETWEEN '2019-01-01' AND '2022-12-31'\n",
    "        GROUP BY Card_code\n",
    "        HAVING COUNT(DISTINCT Check_id) >= 3\n",
    "            AND AVG(Tovar_id) >= 5)\n",
    "    AND Card_code IN (\n",
    "        SELECT DISTINCT Card_code\n",
    "        FROM Check\n",
    "        WHERE Tovar_id IN (\n",
    "                SELECT Tovar_id\n",
    "                FROM Product\n",
    "                WHERE SAP_id NOT IN ('U', 'V')));"
   ]
  },
  {
   "cell_type": "markdown",
   "metadata": {},
   "source": [
    "**2) Скласти Рейтинг-ТОП СКЮ за частотою потрапляння до кошику з 10-ти найбільш часто вживаних товарів.**"
   ]
  },
  {
   "cell_type": "code",
   "execution_count": null,
   "metadata": {
    "vscode": {
     "languageId": "sql"
    }
   },
   "outputs": [],
   "source": [
    "WITH TopProducts AS (\n",
    "    SELECT Tovar_id, SUM(Sum) AS TotalPurchase\n",
    "    FROM Check\n",
    "    GROUP BY Tovar_id\n",
    "    ORDER BY TotalPurchase DESC LIMIT 10),\n",
    "CustomerPurchase AS (\n",
    "    SELECT Card_code, Tovar_id, \n",
    "    SUM(sum) AS TotalPurchase,\n",
    "    RANK() OVER (PARTITION BY Card_code ORDER BY SUM(Sum) DESC) AS PurchaseRank \n",
    "    FROM Check\n",
    "    GROUP BY Card_code, Tovar_id),\n",
    "SELECT Tovar_id, \n",
    "    COUNT(*) AS CustomerCount,\n",
    "    CAST(COUNT(*) AS FLOAT) / 1000 AS Rating\n",
    "FROM CustomerPurchase\n",
    "WHERE Tovar_id IN (SELECT Tovar_id FROM TopProduct) AND PurchaseRank <= 10\n",
    "GROUP BY Tovar_id\n",
    "ORDER BY Rating DESC LIMIT 50;\n",
    "\n",
    "\n"
   ]
  }
 ],
 "metadata": {
  "language_info": {
   "name": "python"
  }
 },
 "nbformat": 4,
 "nbformat_minor": 2
}
